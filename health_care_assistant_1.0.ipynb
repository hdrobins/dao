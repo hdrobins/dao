{
 "cells": [
  {
   "cell_type": "code",
   "execution_count": 1,
   "metadata": {},
   "outputs": [
    {
     "name": "stdout",
     "output_type": "stream",
     "text": [
      "Conexión exitosa ✅\n"
     ]
    }
   ],
   "source": [
    "import pandas as pd\n",
    "import cx_Oracle\n",
    "from sqlalchemy import create_engine, MetaData, Table, select, join\n",
    "\n",
    "# Creamos el DSN de forma segura\n",
    "dsn = cx_Oracle.makedsn(\"localhost\", 1521, service_name=\"XE\")\n",
    "\n",
    "# Creamos el engine sin URL larga, con connect_args\n",
    "engine = create_engine(\n",
    "    \"oracle+cx_oracle://\",  # sin usuario/contraseña en la URL\n",
    "    connect_args={\n",
    "        \"user\": \"hca\",\n",
    "        \"password\": \"hca\",\n",
    "        \"dsn\": dsn,\n",
    "        \"encoding\": \"UTF-8\",\n",
    "        \"nencoding\": \"UTF-8\"\n",
    "    }\n",
    ")\n",
    "\n",
    "# Conectamos y seguimos como siempre\n",
    "connection = engine.connect()\n",
    "\n",
    "metadata = MetaData()\n",
    "doc = Table('doctors', metadata, autoload_with=engine, schema='hca')\n",
    "msp = Table('medical_specialties', metadata, autoload_with=engine, schema='hca')\n",
    "hre = Table('health_relations', metadata, autoload_with=engine, schema='hca')\n",
    "heq = Table('headquarters', metadata, autoload_with=engine, schema='hca')\n",
    "\n",
    "print(\"Conexión exitosa ✅\")\n"
   ]
  },
  {
   "cell_type": "code",
   "execution_count": 2,
   "metadata": {},
   "outputs": [],
   "source": [
    "def get_headquarters(*,hos_id=None,heq_id=None):\n",
    "    if not (hos_id is None):\n",
    "        # Cuáles son las sedes del hospital hos_id\n",
    "        query = select([heq]).where(heq.c.hos_id==hos_id)       \n",
    "    if not (heq_id is None):\n",
    "        # Cuáles son las sedes de la sede heq_id\n",
    "        query = select([heq]).where(heq.c.heq_id==heq_id)       \n",
    "    if hos_id is None and heq_id is None:\n",
    "        # Cuáles son las sedes (en caso de no pasar parámetros)\n",
    "        query = select([heq])\n",
    "    return connection.execute(query).fetchall()\n",
    "\n",
    "def get_medical_specialties(*,hos_id=None,heq_id=None,msp_id=None):\n",
    "    if not (hos_id is None):  \n",
    "        # Especialidades médicas del hospital hos_id\n",
    "        query = select([msp]).where(msp.c.hos_id==hos_id)       \n",
    "    if not (heq_id is None):\n",
    "        # Especialidades médicas de la sede heq_id\n",
    "        j=join(msp,doc,msp.c.msp_id == doc.c.msp_id).join(hre,hre.c.doc_id == doc.c.doc_id)\n",
    "        query = select([msp]).distinct().select_from(j).where(hre.c.heq_id==heq_id)       \n",
    "    if not (msp_id is None): \n",
    "        if not (heq_id is None):\n",
    "            # Especialidades médicas de la sede heq_id y de la especialidad msp_id\n",
    "            j=join(msp,doc,msp.c.msp_id == doc.c.msp_id).join(hre,hre.c.doc_id == doc.c.doc_id)\n",
    "            query = select([msp]).distinct().select_from(j).where(hre.c.heq_id==heq_id).where(msp.c.msp_id==msp_id)\n",
    "        elif not (hos_id is None):\n",
    "            # Especialidades médicas del hospital hos_id y especialidad msp_id\n",
    "            query = select([msp]).where(msp.c.msp_id==msp_id).where(msp.c.hos_id==hos_id)\n",
    "        else:\n",
    "            # Especialidades médicas de la especialidad msp_id\n",
    "            query = select([msp]).where(msp.c.msp_id==msp_id)\n",
    "    if hos_id is None and heq_id is None and msp_id is None:\n",
    "        # Especialidades médicas\n",
    "        query = select([msp])\n",
    "    return connection.execute(query).fetchall()\n",
    "\n",
    "def get_doctors(*,hos_id=None,heq_id=None,msp_id=None,doc_id=None):\n",
    "    if not (hos_id is None):\n",
    "        # Cuáles son los médicos que atienden en el hospital hos_id?\n",
    "        j=join(doc,msp,doc.c.msp_id == msp.c.msp_id)\n",
    "        query = select([doc]).select_from(j).where(msp.c.hos_id==hos_id)\n",
    "    if not (heq_id is None):\n",
    "        # Cuáles son los médicos que atienden en la sucursal heq_id?\n",
    "        j=join(doc,hre,doc.c.doc_id == hre.c.doc_id)\n",
    "        query = select([doc]).select_from(j).where(hre.c.heq_id==heq_id)       \n",
    "    if not (msp_id is None):\n",
    "        if not (heq_id is None):\n",
    "            # Cuáles son los médicos que atienden en la sede heq_id y de la especialidad msp_id?\n",
    "            j=join(doc,hre,doc.c.doc_id == hre.c.doc_id).join(heq,heq.c.heq_id == hre.c.heq_id)\n",
    "            query = select([doc]).distinct().select_from(j).where(doc.c.msp_id==msp_id).where(hre.c.heq_id==heq_id)       \n",
    "        elif not (hos_id is None):\n",
    "            # Cuáles son los médicos disponibles de la especialidad msp_id del hospital hos_id\n",
    "            j=join(doc,msp,doc.c.msp_id == msp.c.msp_id)\n",
    "            query = select([doc]).select_from(j).where(doc.c.msp_id==msp_id).where(msp.c.hos_id==hos_id)\n",
    "        else:\n",
    "            # Cuáles son los médicos de la especialidad msp_id\n",
    "            query = select([doc]).where(doc.c.msp_id==msp_id)\n",
    "    if not (doc_id is None):\n",
    "        # Cuál es el doctor cuyo id es doc_id ?\n",
    "        if not (msp_id is None):\n",
    "            # Cuál es el médico doc_id de la especialidad msp_id\n",
    "            query = select([doc]).where(doc.c.doc_id==doc_id).where(doc.c.msp_id==msp_id)\n",
    "        elif not (heq_id is None):\n",
    "            # Cuál es el médico doc_id de la sede heq_id\n",
    "            j=join(doc,hre,doc.c.doc_id == hre.c.doc_id)\n",
    "            query = select([doc]).select_from(j).where(doc.c.doc_id==doc_id).where(doc.c.heq_id==heq_id)\n",
    "        elif not (hos_id is None):\n",
    "            # Cuál es el médico doc_id del hospital hos_id\n",
    "            j=join(doc,msp,doc.c.msp_id == msp.c.msp_id)\n",
    "            query = select([doc]).select_from(j).where(doc.c.doc_id==doc_id).where(msp.c.hos_id==hos_id)\n",
    "        else:\n",
    "            query = select([doc]).where(doc.c.doc_id==doc_id)\n",
    "    if hos_id is None and heq_id is None and msp_id is None and doc_id is None:\n",
    "        query = select([doc])\n",
    "    return connection.execute(query).fetchall()\n",
    "\n",
    "def get_calendar_id(*,heq_id=None,doc_id=None):\n",
    "    if not (heq_id is None) and doc_id is None:\n",
    "        # Cuáles son los calendarios de la sede heq_id\n",
    "        query = select([hre]).where(hre.c.heq_id==heq_id)       \n",
    "    if not (doc_id is None) and heq_id is None:\n",
    "        # Cuáles son los calendarios del doctor doc_id\n",
    "        query = select([hre]).where(hre.c.doc_id==doc_id)\n",
    "    if not (doc_id is None) and not(heq_id is None):\n",
    "        # Cuáles son los calendarios de la sede heq_id y del doctor doc_id\n",
    "        query = select([hre]).where(hre.c.heq_id==heq_id).where(hre.c.doc_id==doc_id)\n",
    "    if doc_id is None and heq_id is None:\n",
    "        # Cuáles son los calendarios\n",
    "        query = select([hre])\n",
    "    return connection.execute(query).fetchall()"
   ]
  },
  {
   "cell_type": "code",
   "execution_count": 3,
   "metadata": {},
   "outputs": [
    {
     "data": {
      "text/plain": [
       "[(1, 'Chamale', 'Oscar Elias', 1),\n",
       " (2, 'Lozano', 'Alejandro', 2),\n",
       " (4, 'Bertolino', 'Maria Lorena', 3),\n",
       " (5, 'Consigli', 'Nicolas Ernesto', 4),\n",
       " (7, 'Bartolacci', 'Ines', 6),\n",
       " (8, 'Majul', 'Enrique', 6)]"
      ]
     },
     "execution_count": 3,
     "metadata": {},
     "output_type": "execute_result"
    }
   ],
   "source": [
    "doctors=get_doctors(hos_id=1,heq_id=2)\n",
    "doctors"
   ]
  },
  {
   "cell_type": "code",
   "execution_count": 36,
   "metadata": {},
   "outputs": [
    {
     "data": {
      "text/plain": [
       "[(2, 'Consultorios Externos Jacinto Ríos', 'Jacinto Ríos N554 B General Paz', 'Cordoba', 'Argentina', 1)]"
      ]
     },
     "execution_count": 36,
     "metadata": {},
     "output_type": "execute_result"
    }
   ],
   "source": [
    "sedes=get_headquarters(hos_id=1,heq_id=2)\n",
    "sedes"
   ]
  },
  {
   "cell_type": "code",
   "execution_count": 25,
   "metadata": {},
   "outputs": [
    {
     "data": {
      "text/plain": [
       "[(1, 'CLINICA MEDICA', 1),\n",
       " (2, 'ALERGIA E INMUNOLOGIA', 1),\n",
       " (3, 'ENDOCRINOLOGIA', 1),\n",
       " (4, 'DERMATOLOGIA', 1),\n",
       " (5, 'SALUD MENTAL', 1),\n",
       " (6, 'DIABETES', 1)]"
      ]
     },
     "execution_count": 25,
     "metadata": {},
     "output_type": "execute_result"
    }
   ],
   "source": [
    "especialidades=get_medical_specialties(heq_id=1)\n",
    "especialidades"
   ]
  }
 ],
 "metadata": {
  "kernelspec": {
   "display_name": "Python 3 (ipykernel)",
   "language": "python",
   "name": "python3"
  },
  "language_info": {
   "codemirror_mode": {
    "name": "ipython",
    "version": 3
   },
   "file_extension": ".py",
   "mimetype": "text/x-python",
   "name": "python",
   "nbconvert_exporter": "python",
   "pygments_lexer": "ipython3",
   "version": "3.8.10"
  }
 },
 "nbformat": 4,
 "nbformat_minor": 4
}
